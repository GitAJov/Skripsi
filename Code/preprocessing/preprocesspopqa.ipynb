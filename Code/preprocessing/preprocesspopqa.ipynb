{
 "cells": [
  {
   "cell_type": "code",
   "execution_count": null,
   "id": "0cd659eb",
   "metadata": {},
   "outputs": [
    {
     "name": "stderr",
     "output_type": "stream",
     "text": [
      "Repo card metadata block was not found. Setting CardData to empty.\n",
      "c:\\Users\\USER\\AppData\\Local\\Programs\\Python\\Python312\\Lib\\importlib\\__init__.py:90: UserWarning: A NumPy version >=1.23.5 and <2.3.0 is required for this version of SciPy (detected version 2.3.1)\n",
      "  return _bootstrap._gcd_import(name[level:], package, level)\n"
     ]
    },
    {
     "name": "stdout",
     "output_type": "stream",
     "text": [
      "DatasetDict({\n",
      "    test: Dataset({\n",
      "        features: ['id', 'subj', 'prop', 'obj', 'subj_id', 'prop_id', 'obj_id', 's_aliases', 'o_aliases', 's_uri', 'o_uri', 's_wiki_title', 'o_wiki_title', 's_pop', 'o_pop', 'question', 'possible_answers'],\n",
      "        num_rows: 14267\n",
      "    })\n",
      "})\n"
     ]
    }
   ],
   "source": [
    "from datasets import load_dataset\n",
    "\n",
    "# Your target folder\n",
    "cache_dir = r\"D:\\life\\academic\\skripsi\\code\\data\\popqa\"\n",
    "\n",
    "# Load dataset with cache_dir\n",
    "ds = load_dataset(\"akariasai/PopQA\", cache_dir=cache_dir)\n",
    "\n",
    "print(ds)\n"
   ]
  },
  {
   "cell_type": "code",
   "execution_count": 2,
   "id": "24278f7d",
   "metadata": {},
   "outputs": [],
   "source": [
    "test_ds = ds[\"test\"]"
   ]
  },
  {
   "cell_type": "code",
   "execution_count": 3,
   "id": "f22d62a2",
   "metadata": {},
   "outputs": [
    {
     "name": "stdout",
     "output_type": "stream",
     "text": [
      "{'id': 4222362, 'subj': 'George Rankin', 'prop': 'occupation', 'obj': 'politician', 'subj_id': 1850297, 'prop_id': 22, 'obj_id': 2834605, 's_aliases': '[\"George James Rankin\"]', 'o_aliases': '[\"political leader\",\"political figure\",\"polit.\",\"pol\"]', 's_uri': 'http://www.wikidata.org/entity/Q5543720', 'o_uri': 'http://www.wikidata.org/entity/Q82955', 's_wiki_title': 'George Rankin', 'o_wiki_title': 'Politician', 's_pop': 142, 'o_pop': 25692, 'question': \"What is George Rankin's occupation?\", 'possible_answers': '[\"politician\", \"political leader\", \"political figure\", \"polit.\", \"pol\"]'}\n"
     ]
    }
   ],
   "source": [
    "print(test_ds[0])"
   ]
  },
  {
   "cell_type": "code",
   "execution_count": 4,
   "id": "191179b3",
   "metadata": {},
   "outputs": [],
   "source": [
    "filtered = test_ds.filter(lambda x: x[\"s_pop\"] < 100)"
   ]
  },
  {
   "cell_type": "code",
   "execution_count": 5,
   "id": "a738dd82",
   "metadata": {},
   "outputs": [],
   "source": [
    "filtered = filtered.remove_columns([col for col in filtered.column_names \n",
    "                                    if col not in [\"question\", \"possible_answers\"]])"
   ]
  },
  {
   "cell_type": "code",
   "execution_count": 6,
   "id": "96c1659e",
   "metadata": {},
   "outputs": [],
   "source": [
    "data_list = [{\"Question\": q, \"Answer\": ans} for q, ans in zip(filtered[\"question\"], filtered[\"possible_answers\"])]"
   ]
  },
  {
   "cell_type": "code",
   "execution_count": 7,
   "id": "81ecc6be",
   "metadata": {},
   "outputs": [],
   "source": [
    "# convert all answer to list instead of string of list\n",
    "for item in data_list:\n",
    "    if isinstance(item[\"Answer\"], str):\n",
    "        item[\"Answer\"] = eval(item[\"Answer\"])"
   ]
  },
  {
   "cell_type": "code",
   "execution_count": 8,
   "id": "12ff79b7",
   "metadata": {},
   "outputs": [
    {
     "name": "stdout",
     "output_type": "stream",
     "text": [
      "Saved 1399 items to D:\\life\\academic\\skripsi\\code\\data\\popqa\\filtered_popqa.json\n"
     ]
    }
   ],
   "source": [
    "import json\n",
    "outpath = r\"D:\\life\\academic\\skripsi\\code\\data\\popqa\\filtered_popqa.json\"\n",
    "with open(outpath, \"w\", encoding=\"utf-8\") as f:\n",
    "    json.dump(data_list, f, ensure_ascii=False, indent=2)\n",
    "\n",
    "print(f\"Saved {len(data_list)} items to {outpath}\")"
   ]
  },
  {
   "cell_type": "code",
   "execution_count": 9,
   "id": "34a27c09",
   "metadata": {},
   "outputs": [
    {
     "data": {
      "text/plain": [
       "'[\"politician\", \"political leader\", \"political figure\", \"polit.\", \"pol\"]'"
      ]
     },
     "execution_count": 9,
     "metadata": {},
     "output_type": "execute_result"
    }
   ],
   "source": [
    "filtered[\"possible_answers\"][0]"
   ]
  },
  {
   "cell_type": "code",
   "execution_count": null,
   "id": "52778592",
   "metadata": {},
   "outputs": [],
   "source": []
  }
 ],
 "metadata": {
  "kernelspec": {
   "display_name": "Python 3",
   "language": "python",
   "name": "python3"
  },
  "language_info": {
   "codemirror_mode": {
    "name": "ipython",
    "version": 3
   },
   "file_extension": ".py",
   "mimetype": "text/x-python",
   "name": "python",
   "nbconvert_exporter": "python",
   "pygments_lexer": "ipython3",
   "version": "3.12.6"
  }
 },
 "nbformat": 4,
 "nbformat_minor": 5
}
