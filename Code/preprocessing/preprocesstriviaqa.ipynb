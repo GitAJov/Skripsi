{
 "cells": [
  {
   "cell_type": "code",
   "execution_count": 16,
   "id": "457021ff",
   "metadata": {},
   "outputs": [],
   "source": [
    "# open and count data\n",
    "import json\n",
    "outdir = r\"D:\\Life\\Academic\\Skripsi\\Code\\data\\triviaqa\\triviaqa-unfiltered\"\n",
    "\n",
    "devpath = outdir + \"\\\\unfiltered-web-dev.json\"\n",
    "trainpath = outdir + \"\\\\unfiltered-web-train.json\""
   ]
  },
  {
   "cell_type": "code",
   "execution_count": 2,
   "id": "b3d65817",
   "metadata": {},
   "outputs": [],
   "source": [
    "def load_data(path):\n",
    "    with open(path, 'r', encoding='utf-8') as f:\n",
    "        return json.load(f)[\"Data\"]"
   ]
  },
  {
   "cell_type": "code",
   "execution_count": 3,
   "id": "06fd28c9",
   "metadata": {},
   "outputs": [],
   "source": [
    "dev_data = load_data(devpath)\n",
    "train_data = load_data(trainpath)"
   ]
  },
  {
   "cell_type": "code",
   "execution_count": 4,
   "id": "b3064d98",
   "metadata": {},
   "outputs": [
    {
     "data": {
      "text/plain": [
       "98935"
      ]
     },
     "execution_count": 4,
     "metadata": {},
     "output_type": "execute_result"
    }
   ],
   "source": [
    "combined_data = dev_data + train_data\n",
    "len(combined_data)"
   ]
  },
  {
   "cell_type": "code",
   "execution_count": 5,
   "id": "989735a5",
   "metadata": {},
   "outputs": [],
   "source": [
    "results = []\n",
    "for item in combined_data:\n",
    "    question = item.get(\"Question\", \"\").strip()\n",
    "    aliases = item.get(\"Answer\", {}).get(\"Aliases\", [])\n",
    "    results.append({\n",
    "    \"Question\": question,\n",
    "    \"Answer\": aliases\n",
    "    })"
   ]
  },
  {
   "cell_type": "code",
   "execution_count": 6,
   "id": "1c361588",
   "metadata": {},
   "outputs": [
    {
     "name": "stdout",
     "output_type": "stream",
     "text": [
      "Q: Who was the man behind The Chipmunks?\n",
      "A: ['David Seville']\n",
      "-\n",
      "Q: What star sign is Jamie Lee Curtis?\n",
      "A: ['Scorpio', 'Skorpio', 'Scorpio (disambiguation)']\n",
      "-\n",
      "Q: Which Lloyd Webber musical premiered in the US on 10th December 1993?\n",
      "A: ['Sunset Blvd', 'West Sunset Boulevard', 'Sunset Boulevard', 'Sunset Bulevard', 'Sunset Blvd.']\n",
      "-\n",
      "Q: Who was the next British Prime Minister after Arthur Balfour?\n",
      "A: ['Sir Henry Campbell-Bannerman', 'Campbell-Bannerman', 'Campbell Bannerman', 'Sir Henry Campbell Bannerman', 'Henry Campbell Bannerman', 'Henry Campbell-Bannerman']\n",
      "-\n",
      "Q: Who had a 70s No 1 hit with Kiss You All Over?\n",
      "A: ['Internal exile', 'Exiles', 'Transported for life', 'Exile (politics and government)', 'Voluntary exile', 'Sent into exile', 'Exile and Banishment', 'Self-exile', 'Forced exile', 'Exile', 'Exile in Greek tragedy', 'Banish', 'Banishment']\n",
      "-\n"
     ]
    }
   ],
   "source": [
    "for r in results[:5]:\n",
    "    print(f\"Q: {r['Question']}\")\n",
    "    print(f\"A: {r['Answer']}\")\n",
    "    print(\"-\")"
   ]
  },
  {
   "cell_type": "code",
   "execution_count": 17,
   "id": "e716cfb7",
   "metadata": {},
   "outputs": [
    {
     "ename": "SyntaxError",
     "evalue": "unterminated string literal (detected at line 1) (3061921241.py, line 1)",
     "output_type": "error",
     "traceback": [
      "\u001b[1;36m  Cell \u001b[1;32mIn[17], line 1\u001b[1;36m\u001b[0m\n\u001b[1;33m    outpath = outdir + \"\\combined_qna.json\u001b[0m\n\u001b[1;37m                       ^\u001b[0m\n\u001b[1;31mSyntaxError\u001b[0m\u001b[1;31m:\u001b[0m unterminated string literal (detected at line 1)\n"
     ]
    }
   ],
   "source": [
    "outpath = outdir + \"\\\\combined_qna.json\"\n",
    "with open(outpath, 'w', encoding='utf-8') as f:\n",
    "    json.dump(results, f, ensure_ascii=False, indent=2)\n",
    "\n",
    "print(f\"Saved combined data to {outpath} with {len(results)} items.\")"
   ]
  },
  {
   "cell_type": "code",
   "execution_count": 10,
   "id": "3f13d59c",
   "metadata": {},
   "outputs": [],
   "source": [
    "import random\n",
    "\n",
    "random.shuffle(results)\n",
    "n_train, n_dev, n_test = 78785, 8837, 11313"
   ]
  },
  {
   "cell_type": "code",
   "execution_count": 12,
   "id": "f5a164c6",
   "metadata": {},
   "outputs": [],
   "source": [
    "train = results[:n_train]\n",
    "dev = results[n_train:n_train+n_dev]\n",
    "test = results[n_train+n_dev:n_train+n_dev+n_test]"
   ]
  },
  {
   "cell_type": "code",
   "execution_count": 13,
   "id": "23741acc",
   "metadata": {},
   "outputs": [
    {
     "name": "stdout",
     "output_type": "stream",
     "text": [
      "Train: 78785, Dev: 8837, Test: 11313\n"
     ]
    }
   ],
   "source": [
    "with open(outdir + \"\\\\train.json\", \"w\", encoding=\"utf-8\") as f:\n",
    "    json.dump(train, f, ensure_ascii=False, indent=2)\n",
    "\n",
    "with open(outdir + \"\\\\dev.json\", \"w\", encoding=\"utf-8\") as f:\n",
    "    json.dump(dev, f, ensure_ascii=False, indent=2)\n",
    "\n",
    "with open(outdir + \"\\\\test.json\", \"w\", encoding=\"utf-8\") as f:\n",
    "    json.dump(test, f, ensure_ascii=False, indent=2)\n",
    "\n",
    "print(f\"Train: {len(train)}, Dev: {len(dev)}, Test: {len(test)}\")"
   ]
  }
 ],
 "metadata": {
  "kernelspec": {
   "display_name": "Python 3",
   "language": "python",
   "name": "python3"
  },
  "language_info": {
   "codemirror_mode": {
    "name": "ipython",
    "version": 3
   },
   "file_extension": ".py",
   "mimetype": "text/x-python",
   "name": "python",
   "nbconvert_exporter": "python",
   "pygments_lexer": "ipython3",
   "version": "3.12.6"
  }
 },
 "nbformat": 4,
 "nbformat_minor": 5
}
