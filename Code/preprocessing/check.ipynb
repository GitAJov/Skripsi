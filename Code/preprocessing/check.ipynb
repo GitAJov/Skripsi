{
 "cells": [
  {
   "cell_type": "code",
   "execution_count": 15,
   "id": "31929566",
   "metadata": {},
   "outputs": [
    {
     "name": "stdout",
     "output_type": "stream",
     "text": [
      "   id           title                                               text  \\\n",
      "0   0  Deaths in 2022  The following notable deaths occurred in 2022....   \n",
      "1   1         YouTube  YouTube is a global online video sharing and s...   \n",
      "2   2         YouTube  In October 2006, YouTube was bought by Google ...   \n",
      "3   3         YouTube  Since its purchase by Google, YouTube has expa...   \n",
      "4   4         YouTube  YouTube has had an unprecedented social impact...   \n",
      "\n",
      "                                            url   wiki_id        views  \\\n",
      "0  https://en.wikipedia.org/wiki?curid=69407798  69407798  5674.449219   \n",
      "1   https://en.wikipedia.org/wiki?curid=3524766   3524766  5409.561035   \n",
      "2   https://en.wikipedia.org/wiki?curid=3524766   3524766  5409.561035   \n",
      "3   https://en.wikipedia.org/wiki?curid=3524766   3524766  5409.561035   \n",
      "4   https://en.wikipedia.org/wiki?curid=3524766   3524766  5409.561035   \n",
      "\n",
      "   paragraph_id  langs                                                emb  \n",
      "0             0     38  [0.009267602, 0.009592271, 0.025238374, 0.0134...  \n",
      "1             0    184  [0.03334248, -0.1543947, 0.0031653661, -0.0331...  \n",
      "2             1    184  [-0.06815702, -0.1281427, 0.015541038, 0.00125...  \n",
      "3             2    184  [-0.018927645, -0.18486351, -0.014122988, -0.0...  \n",
      "4             3    184  [-0.026521929, -0.00996005, -0.009151534, -0.0...  \n"
     ]
    }
   ],
   "source": [
    "# inspect D:\\Life\\Academic\\Skripsi\\Code\\data\\wikipediasmallLM\\data\\train-00000-of-00145-437d77a320cee9e2.parquet\n",
    "\n",
    "import pandas as pd\n",
    "\n",
    "df = pd.read_parquet(\"D:\\\\Life\\\\Academic\\\\Skripsi\\\\Code\\\\data\\\\wikipediasmallLM\\\\data\\\\train-00000-of-00145-437d77a320cee9e2.parquet\")\n",
    "print(df.head())"
   ]
  },
  {
   "cell_type": "code",
   "execution_count": 13,
   "id": "95a6e7e1",
   "metadata": {},
   "outputs": [],
   "source": [
    "# convert all emb to list\n",
    "df[\"emb\"] = df[\"emb\"].apply(lambda x: x.tolist())"
   ]
  },
  {
   "cell_type": "code",
   "execution_count": null,
   "id": "9adf27ad",
   "metadata": {},
   "outputs": [
    {
     "data": {
      "text/plain": [
       "True"
      ]
     },
     "execution_count": 2,
     "metadata": {},
     "output_type": "execute_result"
    }
   ],
   "source": [
    "# confirm id is unique\n",
    "df['id'].is_unique"
   ]
  },
  {
   "cell_type": "code",
   "execution_count": null,
   "id": "56694b47",
   "metadata": {},
   "outputs": [
    {
     "data": {
      "text/plain": [
       "242538"
      ]
     },
     "execution_count": 5,
     "metadata": {},
     "output_type": "execute_result"
    }
   ],
   "source": [
    "# count unique id\n",
    "len(df['id'].unique())"
   ]
  },
  {
   "cell_type": "code",
   "execution_count": null,
   "id": "1a047d44",
   "metadata": {},
   "outputs": [
    {
     "data": {
      "text/plain": [
       "CountResult(count=1455228)"
      ]
     },
     "execution_count": 9,
     "metadata": {},
     "output_type": "execute_result"
    }
   ],
   "source": [
    "# initialize qdrant client\n",
    "from qdrant_client import QdrantClient\n",
    "client = QdrantClient(url=\"http://localhost:6333\")\n",
    "COLLECTION_NAME = \"wikipedia\""
   ]
  },
  {
   "cell_type": "code",
   "execution_count": null,
   "id": "683b4f57",
   "metadata": {},
   "outputs": [],
   "source": [
    "# count number of vectors in collection\n",
    "client.count(COLLECTION_NAME, exact=True)"
   ]
  },
  {
   "cell_type": "code",
   "execution_count": null,
   "id": "25f6746f",
   "metadata": {},
   "outputs": [
    {
     "name": "stdout",
     "output_type": "stream",
     "text": [
      "status=<CollectionStatus.GREEN: 'green'> optimizer_status=<OptimizersStatusOneOf.OK: 'ok'> vectors_count=None indexed_vectors_count=1455228 points_count=1455228 segments_count=5 config=CollectionConfig(params=CollectionParams(vectors=VectorParams(size=384, distance=<Distance.COSINE: 'Cosine'>, hnsw_config=None, quantization_config=None, on_disk=True, datatype=None, multivector_config=None), shard_number=1, sharding_method=None, replication_factor=1, write_consistency_factor=1, read_fan_out_factor=None, on_disk_payload=True, sparse_vectors=None), hnsw_config=HnswConfig(m=8, ef_construct=100, full_scan_threshold=10000, max_indexing_threads=0, on_disk=True, payload_m=None), optimizer_config=OptimizersConfig(deleted_threshold=0.2, vacuum_min_vector_number=1000, default_segment_number=0, max_segment_size=None, memmap_threshold=10000, indexing_threshold=10000, flush_interval_sec=5, max_optimization_threads=4), wal_config=WalConfig(wal_capacity_mb=32, wal_segments_ahead=0), quantization_config=ScalarQuantization(scalar=ScalarQuantizationConfig(type=<ScalarType.INT8: 'int8'>, quantile=0.95, always_ram=False)), strict_mode_config=StrictModeConfigOutput(enabled=False, max_query_limit=None, max_timeout=None, unindexed_filtering_retrieve=None, unindexed_filtering_update=None, search_max_hnsw_ef=None, search_allow_exact=None, search_max_oversampling=None, upsert_max_batchsize=None, max_collection_vector_size_bytes=None, read_rate_limit=None, write_rate_limit=None, max_collection_payload_size_bytes=None, max_points_count=None, filter_max_conditions=None, condition_max_size=None, multivector_config=None, sparse_config=None)) payload_schema={}\n"
     ]
    }
   ],
   "source": [
    "# get collection info\n",
    "info = client.get_collection(COLLECTION_NAME)\n",
    "print(info)"
   ]
  },
  {
   "cell_type": "code",
   "execution_count": null,
   "id": "ab0eebe6",
   "metadata": {},
   "outputs": [
    {
     "data": {
      "text/plain": [
       "True"
      ]
     },
     "execution_count": 5,
     "metadata": {},
     "output_type": "execute_result"
    }
   ],
   "source": [
    "# delete collection\n",
    "client.delete_collection(COLLECTION_NAME)"
   ]
  },
  {
   "cell_type": "code",
   "execution_count": null,
   "id": "5554b66e",
   "metadata": {},
   "outputs": [],
   "source": [
    "# patch collection to change HNSW m value to 8\n",
    "client.update_collection(\n",
    "    collection_name=COLLECTION_NAME,\n",
    "    hnsw_config=models.HnswConfigDiff(\n",
    "        m=8,\n",
    "    ),\n",
    "    optimizers_config=models.OptimizersConfigDiff(\n",
    "        indexing_threshold=10000,\n",
    "    )\n",
    ")"
   ]
  },
  {
   "cell_type": "code",
   "execution_count": null,
   "id": "934ac44e",
   "metadata": {},
   "outputs": [],
   "source": [
    "# force optimizer to run again\n",
    "client.update_collection(\n",
    "    collection_name=\"wikipedia\",\n",
    "    optimizer_config=models.OptimizersConfigDiff(),\n",
    ")"
   ]
  }
 ],
 "metadata": {
  "kernelspec": {
   "display_name": "Python 3",
   "language": "python",
   "name": "python3"
  },
  "language_info": {
   "codemirror_mode": {
    "name": "ipython",
    "version": 3
   },
   "file_extension": ".py",
   "mimetype": "text/x-python",
   "name": "python",
   "nbconvert_exporter": "python",
   "pygments_lexer": "ipython3",
   "version": "3.12.6"
  }
 },
 "nbformat": 4,
 "nbformat_minor": 5
}
