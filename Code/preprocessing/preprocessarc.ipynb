{
 "cells": [
  {
   "cell_type": "code",
   "execution_count": 1,
   "id": "50190a31",
   "metadata": {},
   "outputs": [
    {
     "name": "stdout",
     "output_type": "stream",
     "text": [
      "DatasetDict({\n",
      "    train: Dataset({\n",
      "        features: ['id', 'question', 'choices', 'answerKey'],\n",
      "        num_rows: 1119\n",
      "    })\n",
      "    test: Dataset({\n",
      "        features: ['id', 'question', 'choices', 'answerKey'],\n",
      "        num_rows: 1172\n",
      "    })\n",
      "    validation: Dataset({\n",
      "        features: ['id', 'question', 'choices', 'answerKey'],\n",
      "        num_rows: 299\n",
      "    })\n",
      "})\n"
     ]
    },
    {
     "name": "stderr",
     "output_type": "stream",
     "text": [
      "c:\\Users\\USER\\AppData\\Local\\Programs\\Python\\Python312\\Lib\\importlib\\__init__.py:90: UserWarning: A NumPy version >=1.23.5 and <2.3.0 is required for this version of SciPy (detected version 2.3.1)\n",
      "  return _bootstrap._gcd_import(name[level:], package, level)\n"
     ]
    }
   ],
   "source": [
    "from datasets import load_dataset\n",
    "\n",
    "# Your target folder\n",
    "cache_dir = r\"D:\\life\\academic\\skripsi\\code\\data\\arc\"\n",
    "\n",
    "# Load dataset with cache_dir\n",
    "ds = load_dataset(\"allenai/ai2_arc\", \"ARC-Challenge\", cache_dir=cache_dir)\n",
    "\n",
    "print(ds)"
   ]
  },
  {
   "cell_type": "code",
   "execution_count": 5,
   "id": "56701248",
   "metadata": {},
   "outputs": [],
   "source": [
    "train = ds['train']\n",
    "test = ds['test']\n",
    "validation = ds['validation']"
   ]
  },
  {
   "cell_type": "code",
   "execution_count": 4,
   "id": "ab1cfbf9",
   "metadata": {},
   "outputs": [
    {
     "name": "stdout",
     "output_type": "stream",
     "text": [
      "{'id': 'Mercury_7175875', 'question': 'An astronomer observes that a planet rotates faster after a meteorite impact. Which is the most likely effect of this increase in rotation?', 'choices': {'text': ['Planetary density will decrease.', 'Planetary years will become longer.', 'Planetary days will become shorter.', 'Planetary gravity will become stronger.'], 'label': ['A', 'B', 'C', 'D']}, 'answerKey': 'C'}\n"
     ]
    }
   ],
   "source": [
    "print(test[0])"
   ]
  },
  {
   "cell_type": "code",
   "execution_count": 3,
   "id": "c99082b8",
   "metadata": {},
   "outputs": [],
   "source": [
    "import json\n",
    "def preprocess(ds):\n",
    "    data_list = []\n",
    "    for item in ds:\n",
    "        q = item[\"question\"]\n",
    "        choices = item[\"choices\"][\"text\"]\n",
    "        labels = item[\"choices\"][\"label\"]\n",
    "        answer = item[\"answerKey\"]\n",
    "\n",
    "        # build formatted question string\n",
    "        q_full = q + \"\\n\" + \"\\n\".join([f\"{lab}. {ch}\" for lab, ch in zip(labels, choices)])\n",
    "\n",
    "        data_list.append({\n",
    "            \"Question\": q_full,\n",
    "            \"Answer\": answer\n",
    "        })\n",
    "    return data_list"
   ]
  },
  {
   "cell_type": "code",
   "execution_count": 8,
   "id": "70f87046",
   "metadata": {},
   "outputs": [
    {
     "name": "stdout",
     "output_type": "stream",
     "text": [
      "Saved 1119 items to D:\\life\\academic\\skripsi\\code\\data\\arc\\train.json\n"
     ]
    }
   ],
   "source": [
    "outpath = r\"D:\\life\\academic\\skripsi\\code\\data\\arc\\train.json\"\n",
    "data_list = preprocess(train)\n",
    "\n",
    "with open(outpath, \"w\", encoding=\"utf-8\") as f:\n",
    "    json.dump(data_list, f, ensure_ascii=False, indent=2)\n",
    "\n",
    "print(f\"Saved {len(data_list)} items to {outpath}\")"
   ]
  },
  {
   "cell_type": "code",
   "execution_count": 9,
   "id": "1650d818",
   "metadata": {},
   "outputs": [
    {
     "name": "stdout",
     "output_type": "stream",
     "text": [
      "Saved 1172 items to D:\\life\\academic\\skripsi\\code\\data\\arc\\test.json\n"
     ]
    }
   ],
   "source": [
    "outpath = r\"D:\\life\\academic\\skripsi\\code\\data\\arc\\test.json\"\n",
    "data_list = preprocess(test)\n",
    "\n",
    "with open(outpath, \"w\", encoding=\"utf-8\") as f:\n",
    "    json.dump(data_list, f, ensure_ascii=False, indent=2)\n",
    "\n",
    "print(f\"Saved {len(data_list)} items to {outpath}\")"
   ]
  },
  {
   "cell_type": "code",
   "execution_count": 10,
   "id": "334dccf7",
   "metadata": {},
   "outputs": [
    {
     "name": "stdout",
     "output_type": "stream",
     "text": [
      "Saved 299 items to D:\\life\\academic\\skripsi\\code\\data\\arc\\validation.json\n"
     ]
    }
   ],
   "source": [
    "outpath = r\"D:\\life\\academic\\skripsi\\code\\data\\arc\\validation.json\"\n",
    "data_list = preprocess(validation)\n",
    "\n",
    "with open(outpath, \"w\", encoding=\"utf-8\") as f:\n",
    "    json.dump(data_list, f, ensure_ascii=False, indent=2)\n",
    "\n",
    "print(f\"Saved {len(data_list)} items to {outpath}\")\n"
   ]
  },
  {
   "cell_type": "code",
   "execution_count": 6,
   "id": "9b72cb9b",
   "metadata": {},
   "outputs": [
    {
     "name": "stdout",
     "output_type": "stream",
     "text": [
      "Saved 2590 items to D:\\life\\academic\\skripsi\\code\\data\\arc\\combined.json\n"
     ]
    }
   ],
   "source": [
    "outpath = r\"D:\\life\\academic\\skripsi\\code\\data\\arc\\combined.json\"\n",
    "data_list = preprocess(train) + preprocess(test) + preprocess(validation)\n",
    "\n",
    "with open(outpath, \"w\", encoding=\"utf-8\") as f:\n",
    "    json.dump(data_list, f, ensure_ascii=False, indent=2)\n",
    "\n",
    "print(f\"Saved {len(data_list)} items to {outpath}\")"
   ]
  },
  {
   "cell_type": "code",
   "execution_count": null,
   "id": "cf47f63f",
   "metadata": {},
   "outputs": [],
   "source": []
  }
 ],
 "metadata": {
  "kernelspec": {
   "display_name": "Python 3",
   "language": "python",
   "name": "python3"
  },
  "language_info": {
   "codemirror_mode": {
    "name": "ipython",
    "version": 3
   },
   "file_extension": ".py",
   "mimetype": "text/x-python",
   "name": "python",
   "nbconvert_exporter": "python",
   "pygments_lexer": "ipython3",
   "version": "3.12.6"
  }
 },
 "nbformat": 4,
 "nbformat_minor": 5
}
